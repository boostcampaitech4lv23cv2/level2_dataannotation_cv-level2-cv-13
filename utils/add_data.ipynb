{
 "cells": [
  {
   "cell_type": "code",
   "execution_count": 1,
   "id": "662d1acb-b4ee-45d1-9fd1-3b21c95b735f",
   "metadata": {},
   "outputs": [
    {
     "name": "stdout",
     "output_type": "stream",
     "text": [
      "Collecting gdown\n",
      "  Downloading gdown-4.6.0-py3-none-any.whl (14 kB)\n",
      "Requirement already satisfied: tqdm in /opt/conda/lib/python3.8/site-packages (from gdown) (4.62.3)\n",
      "Requirement already satisfied: beautifulsoup4 in /opt/conda/lib/python3.8/site-packages (from gdown) (4.9.3)\n",
      "Requirement already satisfied: filelock in /opt/conda/lib/python3.8/site-packages (from gdown) (3.0.12)\n",
      "Requirement already satisfied: six in /opt/conda/lib/python3.8/site-packages (from gdown) (1.15.0)\n",
      "Requirement already satisfied: requests[socks] in /opt/conda/lib/python3.8/site-packages (from gdown) (2.24.0)\n",
      "Requirement already satisfied: soupsieve>1.2; python_version >= \"3.0\" in /opt/conda/lib/python3.8/site-packages (from beautifulsoup4->gdown) (2.1)\n",
      "Requirement already satisfied: certifi>=2017.4.17 in /opt/conda/lib/python3.8/site-packages (from requests[socks]->gdown) (2020.12.5)\n",
      "Requirement already satisfied: chardet<4,>=3.0.2 in /opt/conda/lib/python3.8/site-packages (from requests[socks]->gdown) (3.0.4)\n",
      "Requirement already satisfied: urllib3!=1.25.0,!=1.25.1,<1.26,>=1.21.1 in /opt/conda/lib/python3.8/site-packages (from requests[socks]->gdown) (1.25.11)\n",
      "Requirement already satisfied: idna<3,>=2.5 in /opt/conda/lib/python3.8/site-packages (from requests[socks]->gdown) (2.10)\n",
      "Requirement already satisfied: PySocks!=1.5.7,>=1.5.6; extra == \"socks\" in /opt/conda/lib/python3.8/site-packages (from requests[socks]->gdown) (1.7.1)\n",
      "Installing collected packages: gdown\n",
      "Successfully installed gdown-4.6.0\n",
      "Note: you may need to restart the kernel to use updated packages.\n"
     ]
    }
   ],
   "source": [
    "!pip install gdown"
   ]
  },
  {
   "cell_type": "code",
   "execution_count": 2,
   "id": "ba279888-7e1b-4fb4-9e9a-e1d9ab78b4c4",
   "metadata": {},
   "outputs": [],
   "source": [
    "import gdown\n",
    "import zipfile\n",
    "import os\n",
    "import glob"
   ]
  },
  {
   "cell_type": "code",
   "execution_count": 14,
   "id": "d419f67f-cbe1-49dd-974c-691b7b69ad95",
   "metadata": {},
   "outputs": [
    {
     "name": "stderr",
     "output_type": "stream",
     "text": [
      "Downloading...\n",
      "From: https://drive.google.com/uc?id=1EsCTJ7K47BgOMiVxZFu38m6m4-NBUMnv\n",
      "To: /opt/ml/input/data.zip\n",
      "100%|██████████| 2.12G/2.12G [00:25<00:00, 84.4MB/s]\n"
     ]
    },
    {
     "data": {
      "text/plain": [
       "'../input/data.zip'"
      ]
     },
     "execution_count": 14,
     "metadata": {},
     "output_type": "execute_result"
    }
   ],
   "source": [
    "google_path = 'https://drive.google.com/uc?id='\n",
    "file_id = '1EsCTJ7K47BgOMiVxZFu38m6m4-NBUMnv'\n",
    "output_name = 'data.zip'\n",
    "gdown.download(google_path + file_id, '../input/' + output_name, quiet = False)"
   ]
  },
  {
   "cell_type": "code",
   "execution_count": 8,
   "id": "7ef021bb-b28e-42b2-b27f-1d6e62e6e594",
   "metadata": {},
   "outputs": [],
   "source": [
    "zipfile.ZipFile('../input/ours_data/data.zip').extractall(path= '../input/ours_data')"
   ]
  },
  {
   "cell_type": "code",
   "execution_count": 13,
   "id": "63cbb8ce-df96-409d-b5d5-93a5099b1a4e",
   "metadata": {},
   "outputs": [
    {
     "data": {
      "text/plain": [
       "[None, None]"
      ]
     },
     "execution_count": 13,
     "metadata": {},
     "output_type": "execute_result"
    }
   ],
   "source": [
    "[os.remove(f) for f in glob.glob(\"*.JPG\")]"
   ]
  }
 ],
 "metadata": {
  "kernelspec": {
   "display_name": "Python 3 (ipykernel)",
   "language": "python",
   "name": "python3"
  },
  "language_info": {
   "codemirror_mode": {
    "name": "ipython",
    "version": 3
   },
   "file_extension": ".py",
   "mimetype": "text/x-python",
   "name": "python",
   "nbconvert_exporter": "python",
   "pygments_lexer": "ipython3",
   "version": "3.8.5"
  }
 },
 "nbformat": 4,
 "nbformat_minor": 5
}
